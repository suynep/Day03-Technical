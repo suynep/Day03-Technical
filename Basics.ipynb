{
 "cells": [
  {
   "cell_type": "markdown",
   "id": "2c67c789-090e-4618-af13-1046cb1da6e5",
   "metadata": {},
   "source": [
    "# Python Basics \n",
    "\n",
    "---"
   ]
  },
  {
   "cell_type": "markdown",
   "id": "c6b3938f-8e01-4703-9ba2-3dce16e95b85",
   "metadata": {},
   "source": [
    "## Strings  \n",
    "Strings are sequences of characters enclosed in single (`'`), double (`\"`) or triple quotes (`'''` or `\"\"\"`).  \n",
    "They are used to store text data."
   ]
  },
  {
   "cell_type": "code",
   "execution_count": 1,
   "id": "e247d8ec-32d7-47da-810e-6188f0a0782d",
   "metadata": {},
   "outputs": [
    {
     "name": "stdout",
     "output_type": "stream",
     "text": [
      "Hello World This is\n",
      "a multi-line\n",
      "string.\n"
     ]
    }
   ],
   "source": [
    "# Creating strings\n",
    "single_quotes = 'Hello'\n",
    "double_quotes = \"World\"\n",
    "multiline_string = \"\"\"This is\n",
    "a multi-line\n",
    "string.\"\"\"\n",
    "print(single_quotes, double_quotes, multiline_string)\n"
   ]
  },
  {
   "cell_type": "markdown",
   "id": "068b17ee-022e-4e77-9ddd-1e296afdbf3d",
   "metadata": {},
   "source": [
    "## Escape Sequences\n",
    "Escape sequences allow special characters to be included in strings, such as newlines (`\\n`) or tabs (`\\t`)."
   ]
  },
  {
   "cell_type": "code",
   "execution_count": 2,
   "id": "d7798a81-17a7-4cdc-9e03-a87018f74f99",
   "metadata": {},
   "outputs": [
    {
     "name": "stdout",
     "output_type": "stream",
     "text": [
      "Hello\n",
      "World\n",
      "Hello\tWorld\n",
      "He said, \"Python is awesome!\"\n"
     ]
    }
   ],
   "source": [
    "newline = \"Hello\\nWorld\"\n",
    "tabbed = \"Hello\\tWorld\"\n",
    "quote = \"He said, \\\"Python is awesome!\\\"\"\n",
    "print(newline)\n",
    "print(tabbed)\n",
    "print(quote)"
   ]
  },
  {
   "cell_type": "markdown",
   "id": "aaa3aa46-ea78-4f40-88a9-a8f66c1c8277",
   "metadata": {},
   "source": [
    "## Formatted Strings  \n",
    "Formatted strings (f-strings) let you insert variables or expressions directly inside string literals using `{}`."
   ]
  },
  {
   "cell_type": "code",
   "execution_count": 3,
   "id": "01b62951-4cfe-40a1-8371-37b0dfd0184d",
   "metadata": {},
   "outputs": [
    {
     "name": "stdout",
     "output_type": "stream",
     "text": [
      "My name is Alice and I am 25 years old.\n"
     ]
    }
   ],
   "source": [
    "name = \"Alice\"\n",
    "age = 25\n",
    "print(f\"My name is {name} and I am {age} years old.\")"
   ]
  },
  {
   "cell_type": "markdown",
   "id": "25b1670e-bbe4-4376-9e36-476d86dddbe2",
   "metadata": {},
   "source": [
    "## String Methods  \n",
    "String methods are built-in functions that perform operations on strings, such as case changes, trimming, and searching."
   ]
  },
  {
   "cell_type": "code",
   "execution_count": 4,
   "id": "468217c6-b9f2-4dab-9332-db830d9409f6",
   "metadata": {},
   "outputs": [
    {
     "name": "stdout",
     "output_type": "stream",
     "text": [
      "   python is fun!   \n",
      "   PYTHON IS FUN!   \n",
      "Python is Fun!\n",
      "   Python is Awesome!   \n",
      "True\n"
     ]
    }
   ],
   "source": [
    "text = \"   Python is Fun!   \"\n",
    "print(text.lower())\n",
    "print(text.upper())\n",
    "print(text.strip())\n",
    "print(text.replace(\"Fun\", \"Awesome\"))\n",
    "print(\"Python\" in text)"
   ]
  },
  {
   "cell_type": "markdown",
   "id": "da104a67-3d5d-4632-b3f6-e0512dbad10d",
   "metadata": {},
   "source": [
    "## Numbers  \n",
    "Python supports integers, floating-point numbers, and complex numbers."
   ]
  },
  {
   "cell_type": "code",
   "execution_count": 5,
   "id": "f7ad6343-e8d0-4b3f-a74e-77ad5dc6e5be",
   "metadata": {},
   "outputs": [
    {
     "name": "stdout",
     "output_type": "stream",
     "text": [
      "<class 'int'> <class 'float'> <class 'complex'>\n"
     ]
    }
   ],
   "source": [
    "integer = 10\n",
    "floating = 3.14\n",
    "complex_number = 2 + 3j\n",
    "print(type(integer), type(floating), type(complex_number))"
   ]
  },
  {
   "cell_type": "markdown",
   "id": "9be875c0-28ad-418b-8e56-45c5c6a94319",
   "metadata": {},
   "source": [
    "## Working With Numbers  \n",
    "Basic arithmetic operations can be performed using standard mathematical operators."
   ]
  },
  {
   "cell_type": "code",
   "execution_count": 6,
   "id": "ffc5d9cb-de88-4d0c-b392-e4ef14dfc173",
   "metadata": {},
   "outputs": [
    {
     "name": "stdout",
     "output_type": "stream",
     "text": [
      "7\n",
      "3\n",
      "10\n",
      "2.5\n",
      "2\n",
      "1\n",
      "25\n"
     ]
    }
   ],
   "source": [
    "print(5 + 2)    # addition\n",
    "print(5 - 2)    # subtraction\n",
    "print(5 * 2)    # multiplication\n",
    "print(5 / 2)    # division\n",
    "print(5 // 2)   # floor division\n",
    "print(5 % 2)    # modulo\n",
    "print(5 ** 2)   # exponent"
   ]
  },
  {
   "cell_type": "markdown",
   "id": "139efac8-9ccc-4f5a-8434-5df9fb6184e6",
   "metadata": {},
   "source": [
    "## Type Conversion  \n",
    "You can convert between types using functions like `int()`, `float()`, and `str()`."
   ]
  },
  {
   "cell_type": "code",
   "execution_count": 7,
   "id": "34c99927-eee9-49cf-9d12-1b6164d406bb",
   "metadata": {},
   "outputs": [
    {
     "name": "stdout",
     "output_type": "stream",
     "text": [
      "42 42.0\n"
     ]
    }
   ],
   "source": [
    "x = \"42\"\n",
    "y = int(x)\n",
    "z = float(x)\n",
    "print(y, z)"
   ]
  },
  {
   "cell_type": "markdown",
   "id": "def26ea8-c901-4cbd-967e-594f884d2c39",
   "metadata": {},
   "source": [
    "## Comparison Operators  \n",
    "Comparison operators are used to compare values and return `True` or `False`."
   ]
  },
  {
   "cell_type": "code",
   "execution_count": 8,
   "id": "09f504cb-9453-472d-87d7-b0d68a0ac62d",
   "metadata": {},
   "outputs": [
    {
     "name": "stdout",
     "output_type": "stream",
     "text": [
      "True\n",
      "True\n",
      "True\n",
      "False\n"
     ]
    }
   ],
   "source": [
    "print(5 == 5)\n",
    "print(5 != 3)\n",
    "print(5 > 3)\n",
    "print(5 <= 3)"
   ]
  },
  {
   "cell_type": "markdown",
   "id": "d5e024e1-6bb2-4146-8b36-839844b185e2",
   "metadata": {},
   "source": [
    "## Conditional Statements  \n",
    "Conditional statements (`if`, `elif`, `else`) allow code to run based on conditions."
   ]
  },
  {
   "cell_type": "code",
   "execution_count": 9,
   "id": "bc095cec-0ee7-4a8a-b7e0-cc6d782a270e",
   "metadata": {},
   "outputs": [
    {
     "name": "stdout",
     "output_type": "stream",
     "text": [
      "Adult\n"
     ]
    }
   ],
   "source": [
    "age = 18\n",
    "if age >= 18:\n",
    "    print(\"Adult\")\n",
    "else:\n",
    "    print(\"Minor\")"
   ]
  },
  {
   "cell_type": "markdown",
   "id": "1b378d8c-b51e-4dd3-966f-9b83043c4693",
   "metadata": {},
   "source": [
    "## Ternary Operator  \n",
    "The ternary operator allows writing simple `if-else` logic in a single line."
   ]
  },
  {
   "cell_type": "code",
   "execution_count": 10,
   "id": "12a559cb-67c7-4ee8-9405-1d3e3daf9e35",
   "metadata": {},
   "outputs": [
    {
     "name": "stdout",
     "output_type": "stream",
     "text": [
      "Adult\n"
     ]
    }
   ],
   "source": [
    "age = 20\n",
    "status = \"Adult\" if age >= 18 else \"Minor\"\n",
    "print(status)"
   ]
  },
  {
   "cell_type": "markdown",
   "id": "c793afe3-8890-47a5-acc3-e7db2f13e4f7",
   "metadata": {},
   "source": [
    "## Logical Operators  \n",
    "Logical operators (`and`, `or`, `not`) combine or modify boolean expressions."
   ]
  },
  {
   "cell_type": "code",
   "execution_count": 11,
   "id": "8f6abc05-fe3d-4553-8a0a-0bb130372951",
   "metadata": {},
   "outputs": [
    {
     "name": "stdout",
     "output_type": "stream",
     "text": [
      "False\n",
      "True\n",
      "False\n"
     ]
    }
   ],
   "source": [
    "print(True and False)\n",
    "print(True or False)\n",
    "print(not True)"
   ]
  },
  {
   "cell_type": "markdown",
   "id": "483be5f9-2b60-417a-bf1b-4af0d7f51102",
   "metadata": {},
   "source": [
    "## Short-circuit Evaluations  \n",
    "Python stops evaluating logical expressions as soon as the result is determined."
   ]
  },
  {
   "cell_type": "code",
   "execution_count": 12,
   "id": "4f265f66-bb31-4568-a36d-66ac04f8e828",
   "metadata": {},
   "outputs": [
    {
     "name": "stdout",
     "output_type": "stream",
     "text": [
      "False\n",
      "True\n"
     ]
    }
   ],
   "source": [
    "def check():\n",
    "    print(\"Function called\")\n",
    "    return True\n",
    "\n",
    "print(False and check())  # won't call check()\n",
    "print(True or check())    # won't call check()"
   ]
  },
  {
   "cell_type": "markdown",
   "id": "0dd8b75e-5582-4c73-a7d9-da0eaedc0b2e",
   "metadata": {},
   "source": [
    "## Chaining Comparison Operators  \n",
    "You can chain multiple comparisons for cleaner expressions."
   ]
  },
  {
   "cell_type": "code",
   "execution_count": 13,
   "id": "4007a935-c462-4806-8d00-f2d0f857cb71",
   "metadata": {},
   "outputs": [
    {
     "name": "stdout",
     "output_type": "stream",
     "text": [
      "True\n"
     ]
    }
   ],
   "source": [
    "x = 5\n",
    "print(1 < x < 10)  # equivalent to (1 < x) and (x < 10)"
   ]
  },
  {
   "cell_type": "markdown",
   "id": "fa24c2e9-605f-427d-b520-7117b221e936",
   "metadata": {},
   "source": [
    "## For Loops  \n",
    "For loops iterate over sequences like lists, strings, or ranges."
   ]
  },
  {
   "cell_type": "code",
   "execution_count": 14,
   "id": "47a6e5bb-730e-455a-be7c-d9029bebc95f",
   "metadata": {},
   "outputs": [
    {
     "name": "stdout",
     "output_type": "stream",
     "text": [
      "0\n",
      "1\n",
      "2\n",
      "3\n",
      "4\n"
     ]
    }
   ],
   "source": [
    "for i in range(5):\n",
    "    print(i)"
   ]
  },
  {
   "cell_type": "markdown",
   "id": "88dbf97b-ef56-4b11-a18d-73f5ec52596b",
   "metadata": {},
   "source": [
    "## For..Else  \n",
    "The `else` block in a loop executes if the loop completes without hitting a `break`.\n"
   ]
  },
  {
   "cell_type": "code",
   "execution_count": 15,
   "id": "52aa8962-ee3b-4b55-8490-10aaffaeee07",
   "metadata": {},
   "outputs": [
    {
     "name": "stdout",
     "output_type": "stream",
     "text": [
      "Loop completed without break\n"
     ]
    }
   ],
   "source": [
    "for i in range(5):\n",
    "    if i == 10:\n",
    "        print(\"Found 3\")\n",
    "        break\n",
    "else:\n",
    "    print(\"Loop completed without break\")\n"
   ]
  },
  {
   "cell_type": "markdown",
   "id": "09712634-8525-4db4-8c15-701c4a57ae6e",
   "metadata": {},
   "source": [
    "## Nested Loops  \n",
    "You can place loops inside other loops to work with multi-level data.\n"
   ]
  },
  {
   "cell_type": "code",
   "execution_count": 16,
   "id": "c15b8088-ddd3-4d9b-a65b-666b16090bd2",
   "metadata": {},
   "outputs": [
    {
     "name": "stdout",
     "output_type": "stream",
     "text": [
      "0 0\n",
      "0 1\n",
      "0 2\n",
      "1 0\n",
      "1 1\n",
      "1 2\n"
     ]
    }
   ],
   "source": [
    "for i in range(2):\n",
    "    for j in range(3):\n",
    "        print(i, j)\n"
   ]
  },
  {
   "cell_type": "markdown",
   "id": "15e67b43-3731-4fc9-b48a-20bb28947ece",
   "metadata": {},
   "source": [
    "## Iterables  \n",
    "An iterable is any Python object capable of returning its members one at a time.\n"
   ]
  },
  {
   "cell_type": "code",
   "execution_count": 17,
   "id": "114f46f6-a8da-4291-b8f0-33446d8ee024",
   "metadata": {},
   "outputs": [
    {
     "name": "stdout",
     "output_type": "stream",
     "text": [
      "1\n",
      "2\n",
      "3\n",
      "1\n"
     ]
    }
   ],
   "source": [
    "my_list = [1, 2, 3]\n",
    "for item in my_list:\n",
    "    print(item)\n",
    "\n",
    "iterator = iter(my_list)\n",
    "print(next(iterator)) # note the usage of `next`\n"
   ]
  },
  {
   "cell_type": "markdown",
   "id": "2e0a2a40-acd6-4b16-825a-ae9f0148eb2d",
   "metadata": {},
   "source": [
    "## While Loops  \n",
    "While loops repeat as long as a condition is `True`.\n"
   ]
  },
  {
   "cell_type": "code",
   "execution_count": 18,
   "id": "c0d7319f-910e-4a4e-b113-527f8e389d30",
   "metadata": {},
   "outputs": [
    {
     "name": "stdout",
     "output_type": "stream",
     "text": [
      "0\n",
      "1\n",
      "2\n"
     ]
    }
   ],
   "source": [
    "count = 0\n",
    "while count < 3:\n",
    "    print(count)\n",
    "    count += 1\n"
   ]
  },
  {
   "cell_type": "markdown",
   "id": "903eb9ca-6b2e-49f1-b998-3df12fae7945",
   "metadata": {},
   "source": [
    "## Infinite Loops  \n",
    "A loop that runs forever unless stopped manually or via `break`.\n"
   ]
  },
  {
   "cell_type": "code",
   "execution_count": 19,
   "id": "72b2612e-ecdb-4266-b9f0-7590cff34502",
   "metadata": {},
   "outputs": [],
   "source": [
    "# Uncomment to run: NOTE THAT THIS LOOP RUNS FOREVER (YOU'LL NEED TO DO Ctrl-C TO STOP IT!!)\n",
    "# while True:\n",
    "#     print(\"This Boot camp is FUN!\")\n"
   ]
  },
  {
   "cell_type": "markdown",
   "id": "cd1bcb40-5875-47ae-988f-2776ab632930",
   "metadata": {},
   "source": [
    "## Defining Functions  \n",
    "Functions group reusable code into named blocks.\n"
   ]
  },
  {
   "cell_type": "code",
   "execution_count": 20,
   "id": "62d1ccd5-414a-46b6-9211-e69fbb5e4a2a",
   "metadata": {},
   "outputs": [
    {
     "name": "stdout",
     "output_type": "stream",
     "text": [
      "Hello!\n"
     ]
    }
   ],
   "source": [
    "def greet():\n",
    "    print(\"Hello!\")\n",
    "greet()\n"
   ]
  },
  {
   "cell_type": "markdown",
   "id": "e5e69dbe-0673-4cf4-a30f-43c45df15e90",
   "metadata": {},
   "source": [
    "## Arguments  \n",
    "Functions can accept parameters (arguments) to customize their behavior.\n"
   ]
  },
  {
   "cell_type": "code",
   "execution_count": 21,
   "id": "aa7c6ec7-f5bf-4323-91ea-fdbe329e4f42",
   "metadata": {},
   "outputs": [
    {
     "name": "stdout",
     "output_type": "stream",
     "text": [
      "Hello, Alice!\n"
     ]
    }
   ],
   "source": [
    "def greet(name):\n",
    "    print(f\"Hello, {name}!\")\n",
    "greet(\"Alice\")\n"
   ]
  },
  {
   "cell_type": "markdown",
   "id": "98fc797c-26ff-4db4-ad5b-184cb76453b5",
   "metadata": {},
   "source": [
    "## Types of Functions  \n",
    "Functions can return values or simply perform actions.\n"
   ]
  },
  {
   "cell_type": "code",
   "execution_count": 22,
   "id": "3c9dd7dc-0355-4c83-955a-ca4b609ee8cf",
   "metadata": {},
   "outputs": [
    {
     "name": "stdout",
     "output_type": "stream",
     "text": [
      "5\n",
      "5\n"
     ]
    }
   ],
   "source": [
    "def add(a, b):\n",
    "    return a + b\n",
    "\n",
    "def show_sum(a, b):\n",
    "    print(a + b)\n",
    "\n",
    "print(add(2, 3))\n",
    "show_sum(2, 3)\n"
   ]
  },
  {
   "cell_type": "markdown",
   "id": "42c36778-9483-4dd3-85d1-bc94d5153619",
   "metadata": {},
   "source": [
    "## Keyword Arguments  \n",
    "Arguments can be passed by name, making order irrelevant.\n"
   ]
  },
  {
   "cell_type": "code",
   "execution_count": 23,
   "id": "a7c9edaa-fcda-4eeb-8c01-7ac6ae5fcd0a",
   "metadata": {},
   "outputs": [
    {
     "name": "stdout",
     "output_type": "stream",
     "text": [
      "Hello John Smith!\n"
     ]
    }
   ],
   "source": [
    "def greet(first_name, last_name):\n",
    "    print(f\"Hello {first_name} {last_name}!\")\n",
    "greet(last_name=\"Smith\", first_name=\"John\")\n"
   ]
  },
  {
   "cell_type": "markdown",
   "id": "efba0d1f-a21d-40b2-9b21-626e0f4b9b9f",
   "metadata": {},
   "source": [
    "## Default Arguments  \n",
    "You can assign default values to parameters so they become optional.\n"
   ]
  },
  {
   "cell_type": "code",
   "execution_count": 24,
   "id": "680b081e-4e88-4dc9-804d-21f1e8c69b37",
   "metadata": {},
   "outputs": [
    {
     "name": "stdout",
     "output_type": "stream",
     "text": [
      "Hello, Guest!\n",
      "Hello, Alice!\n"
     ]
    }
   ],
   "source": [
    "def greet(name=\"Guest\"):\n",
    "    print(f\"Hello, {name}!\")\n",
    "greet()\n",
    "greet(\"Alice\")\n"
   ]
  },
  {
   "cell_type": "markdown",
   "id": "3150a30f-84e4-4fe2-9367-96f16cf61fc0",
   "metadata": {},
   "source": [
    "## *args  \n",
    "`*args` lets you pass a variable number of positional arguments into a function.\n"
   ]
  },
  {
   "cell_type": "code",
   "execution_count": 25,
   "id": "7cc3cae9-9dca-40af-8b20-8ca077f536c6",
   "metadata": {},
   "outputs": [
    {
     "name": "stdout",
     "output_type": "stream",
     "text": [
      "10\n"
     ]
    }
   ],
   "source": [
    "def add_all(*numbers):\n",
    "    return sum(numbers)\n",
    "\n",
    "print(add_all(1, 2, 3, 4))\n"
   ]
  },
  {
   "cell_type": "code",
   "execution_count": null,
   "id": "c71ba448-9284-493c-9a49-ffae0410dcd5",
   "metadata": {},
   "outputs": [],
   "source": []
  },
  {
   "cell_type": "code",
   "execution_count": null,
   "id": "a995e648-1572-4e03-98fd-9a228d2e6d44",
   "metadata": {},
   "outputs": [],
   "source": []
  },
  {
   "cell_type": "code",
   "execution_count": null,
   "id": "5128e2e8-f331-4492-bab6-bad93cf3e200",
   "metadata": {},
   "outputs": [],
   "source": []
  }
 ],
 "metadata": {
  "kernelspec": {
   "display_name": "Python 3 (ipykernel)",
   "language": "python",
   "name": "python3"
  },
  "language_info": {
   "codemirror_mode": {
    "name": "ipython",
    "version": 3
   },
   "file_extension": ".py",
   "mimetype": "text/x-python",
   "name": "python",
   "nbconvert_exporter": "python",
   "pygments_lexer": "ipython3",
   "version": "3.12.3"
  }
 },
 "nbformat": 4,
 "nbformat_minor": 5
}
