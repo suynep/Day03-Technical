{
 "cells": [
  {
   "cell_type": "markdown",
   "id": "50561c9b",
   "metadata": {},
   "source": [
    "# Python Basics, Classes, and Functions\n",
    "---\n",
    "This notebook covers Python basics, including strings, numbers, logic, loops, and also demonstrates how to define and use classes and functions."
   ]
  },
  {
   "cell_type": "markdown",
   "id": "0d66b3ef",
   "metadata": {},
   "source": [
    "## Strings and Numbers\n",
    "Strings are sequences of characters. Numbers can be integers, floats, or complex."
   ]
  },
  {
   "cell_type": "code",
   "execution_count": 8,
   "id": "60f12ed3",
   "metadata": {},
   "outputs": [
    {
     "name": "stdout",
     "output_type": "stream",
     "text": [
      "Hello, World! 22 3.14159\n"
     ]
    }
   ],
   "source": [
    "greeting = 'Hello, World!'\n",
    "age = 22\n",
    "pi = 3.14159\n",
    "print(greeting, age, pi)"
   ]
  },
  {
   "cell_type": "markdown",
   "id": "cc00c374",
   "metadata": {},
   "source": [
    "## Lists and Loops\n",
    "Lists store multiple items. Loops let you repeat actions."
   ]
  },
  {
   "cell_type": "code",
   "execution_count": 9,
   "id": "87f45005",
   "metadata": {},
   "outputs": [
    {
     "name": "stdout",
     "output_type": "stream",
     "text": [
      "apple\n",
      "banana\n",
      "cherry\n"
     ]
    }
   ],
   "source": [
    "fruits = ['apple', 'banana', 'cherry']\n",
    "for fruit in fruits:\n",
    "    print(fruit)"
   ]
  },
  {
   "cell_type": "markdown",
   "id": "cbf3074c",
   "metadata": {},
   "source": [
    "## Conditional Statements\n",
    "Use if/else to make decisions."
   ]
  },
  {
   "cell_type": "code",
   "execution_count": 10,
   "id": "0a3a8f45",
   "metadata": {},
   "outputs": [
    {
     "name": "stdout",
     "output_type": "stream",
     "text": [
      "Greater than 5\n"
     ]
    }
   ],
   "source": [
    "num = 10\n",
    "if num > 5:\n",
    "    print('Greater than 5')\n",
    "else:\n",
    "    print('5 or less')"
   ]
  },
  {
   "cell_type": "markdown",
   "id": "7c99315d",
   "metadata": {},
   "source": [
    "## Defining Functions\n",
    "Functions group code for reuse."
   ]
  },
  {
   "cell_type": "code",
   "execution_count": 11,
   "id": "4ff1f6ca",
   "metadata": {},
   "outputs": [
    {
     "name": "stdout",
     "output_type": "stream",
     "text": [
      "5\n"
     ]
    }
   ],
   "source": [
    "def add(a, b):\n",
    "    return a + b\n",
    "print(add(2, 3))"
   ]
  },
  {
   "cell_type": "markdown",
   "id": "acf393b3",
   "metadata": {},
   "source": [
    "## Classes\n",
    "A class bundles data and behavior."
   ]
  },
  {
   "cell_type": "code",
   "execution_count": 12,
   "id": "365e3aa8",
   "metadata": {},
   "outputs": [
    {
     "name": "stdout",
     "output_type": "stream",
     "text": [
      "Siddhartha is in grade 12\n"
     ]
    }
   ],
   "source": [
    "class Student:\n",
    "    def __init__(self, name, grade):\n",
    "        self.name = name\n",
    "        self.grade = grade\n",
    "    def info(self):\n",
    "        return f'{self.name} is in grade {self.grade}'\n",
    "\n",
    "s = Student('Siddhartha', 12)\n",
    "print(s.info())"
   ]
  },
  {
   "cell_type": "code",
   "execution_count": 13,
   "id": "0406e87e",
   "metadata": {},
   "outputs": [
    {
     "name": "stdout",
     "output_type": "stream",
     "text": [
      "Name: Siddhartha\n",
      "Traits: ('curious', 'hardworking')\n",
      "Details: {'age': 22, 'course': 'BTech in AI'}\n"
     ]
    }
   ],
   "source": [
    "def describe_person(name, *traits, **details):\n",
    "    print(f'Name: {name}')\n",
    "    print('Traits:', traits)\n",
    "    print('Details:', details)\n",
    "\n",
    "describe_person('Siddhartha', 'curious', 'hardworking', age=22, course='BTech in AI')"
   ]
  },
  {
   "cell_type": "code",
   "execution_count": 14,
   "id": "3dbd95fa",
   "metadata": {},
   "outputs": [
    {
     "name": "stdout",
     "output_type": "stream",
     "text": [
      "Generic makes a sound.\n",
      "Animals are living beings.\n",
      "Buddy barks.\n"
     ]
    }
   ],
   "source": [
    "class Animal:\n",
    "    kingdom = 'Animalia'  # class variable\n",
    "    def __init__(self, name):\n",
    "        self.name = name\n",
    "    def speak(self):\n",
    "        print(f'{self.name} makes a sound.')\n",
    "    @staticmethod\n",
    "    def info():\n",
    "        print('Animals are living beings.')\n",
    "\n",
    "class Dog(Animal):\n",
    "    def speak(self):\n",
    "        print(f'{self.name} barks.')\n",
    "\n",
    "a = Animal('Generic')\n",
    "a.speak()\n",
    "Animal.info()\n",
    "d = Dog('Buddy')\n",
    "d.speak()"
   ]
  },
  {
   "cell_type": "code",
   "execution_count": 15,
   "id": "db4c54e3",
   "metadata": {},
   "outputs": [
    {
     "name": "stdout",
     "output_type": "stream",
     "text": [
      "{'name': 'Siddhartha', 'course': 'BTech in AI'}\n",
      "(10, 20)\n",
      "{1, 2, 3}\n"
     ]
    }
   ],
   "source": [
    "# Dictionaries\n",
    "student = {'name': 'Siddhartha', 'course': 'BTech in AI'}\n",
    "print(student)\n",
    "# Tuples\n",
    "point = (10, 20)\n",
    "print(point)\n",
    "# Sets\n",
    "unique_numbers = {1, 2, 3, 2, 1}\n",
    "print(unique_numbers)"
   ]
  },
  {
   "cell_type": "code",
   "execution_count": 16,
   "id": "56b19560",
   "metadata": {},
   "outputs": [
    {
     "name": "stdout",
     "output_type": "stream",
     "text": [
      "Hello, Guest!\n",
      "Hello, Siddhartha!\n"
     ]
    }
   ],
   "source": [
    "def greet(name='Guest'):\n",
    "    print(f'Hello, {name}!')\n",
    "greet()\n",
    "greet('Siddhartha')"
   ]
  },
  {
   "cell_type": "code",
   "execution_count": 17,
   "id": "641dbfaf",
   "metadata": {},
   "outputs": [
    {
     "name": "stdout",
     "output_type": "stream",
     "text": [
      "10\n"
     ]
    }
   ],
   "source": [
    "def add_all(*args):\n",
    "    return sum(args)\n",
    "print(add_all(1, 2, 3, 4))"
   ]
  }
 ],
 "metadata": {
  "kernelspec": {
   "display_name": "Python 3",
   "language": "python",
   "name": "python3"
  },
  "language_info": {
   "codemirror_mode": {
    "name": "ipython",
    "version": 3
   },
   "file_extension": ".py",
   "mimetype": "text/x-python",
   "name": "python",
   "nbconvert_exporter": "python",
   "pygments_lexer": "ipython3",
   "version": "3.10.10"
  }
 },
 "nbformat": 4,
 "nbformat_minor": 5
}
